{
 "cells": [
  {
   "cell_type": "markdown",
   "metadata": {},
   "source": [
    "# Preprocessing for...\n",
    "\n",
    "* Ballroom, extended ballroom, gtzan (genre)\n",
    "* emomusic45s (emotion)\n",
    "* jamendo (vocal or not)\n",
    "* gtzan music speech\n",
    "\n",
    "### like how?\n",
    "For each dataset,\n",
    "* Audio: decoded, resampled to 12 kHz, and stored as filename.npy\n",
    "* Annotations: becomes a csv file, `[dataset_name].csv` file with binary values\n",
    "  * [file_id]: file id -- for management\n",
    "  * [index]: file index (integer) -- for management\n",
    "  * [filepath]: filepath -- for reading file\n",
    "  * [label]: y in integer -- for stratified spliting\n",
    "* Annotations: `[dataset_name].npy`: `n_track, 1`\n",
    "* Annotations: `[dataset_name]_1hot.npy`: `(n_track, n_label)` if classification task\n",
    "* Setup: `[dataset_name]_setup.json` for setup like\n",
    "  * task name\n",
    "  * task type (classification or regression)\n",
    "  * suggested `k` for cross validation\n",
    "  * dataset root path"
   ]
  },
  {
   "cell_type": "code",
   "execution_count": 1,
   "metadata": {},
   "outputs": [],
   "source": [
    "#!/usr/bin/env python\n",
    "# -*- coding: utf-8 -*-\n",
    "%matplotlib notebook\n",
    "import matplotlib.pyplot as plt\n",
    "import numpy as np\n",
    "import h5py\n",
    "import librosa\n",
    "import os, sys\n",
    "import time\n",
    "import pandas as pd \n",
    "from collections import namedtuple\n",
    "from sklearn.model_selection import StratifiedShuffleSplit"
   ]
  },
  {
   "cell_type": "markdown",
   "metadata": {},
   "source": [
    "## PATHS\n",
    "You should change these to where you saved/untarred the datasets"
   ]
  },
  {
   "cell_type": "code",
   "execution_count": 2,
   "metadata": {},
   "outputs": [],
   "source": [
    "# For almost every datasets,\n",
    "PATH_DATASETS = '/home/kchow/datasets'\n",
    "# To store processed Jamendo dataset\n",
    "PATH_PROCESSED = '/home/kchow/datasets_processed/'\n",
    "# For some random reason I put UrbanSound8K in this folder. \n",
    "PATH_URBAN = '/home/kchow/datasets/UrbanSound8K' "
   ]
  },
  {
   "cell_type": "code",
   "execution_count": 16,
   "metadata": {},
   "outputs": [],
   "source": [
    "FOLDER_CSV = '/home/kchow/TLMusic/data_csv/'\n",
    "SR = 12000"
   ]
  },
  {
   "cell_type": "code",
   "execution_count": 4,
   "metadata": {},
   "outputs": [],
   "source": [
    "allowed_exts = set(['mp3', 'wav', 'au'])"
   ]
  },
  {
   "cell_type": "markdown",
   "metadata": {
    "collapsed": true
   },
   "source": [
    "# Create CSV files\n",
    "\n",
    "Helper functions for other datasets."
   ]
  },
  {
   "cell_type": "code",
   "execution_count": 5,
   "metadata": {},
   "outputs": [],
   "source": [
    "column_names = ['id', 'filepath', 'label'] # todo: label_for_stratify?"
   ]
  },
  {
   "cell_type": "code",
   "execution_count": 6,
   "metadata": {},
   "outputs": [],
   "source": [
    "def get_rows_from_folders(folder_dataset, folders, dataroot=None):\n",
    "    '''gtzan, ballroom extended. each class in different folders'''\n",
    "    rows = []\n",
    "    if dataroot is None:\n",
    "        dataroot = PATH_DATASETS\n",
    "    for label_idx, folder in enumerate(folders): # assumes different labels per folders.\n",
    "        files = os.listdir(os.path.join(dataroot, folder_dataset, folder))\n",
    "        files = [f for f in files if f.split('.')[-1].lower() in allowed_exts]\n",
    "        for fname in files:\n",
    "            file_path = os.path.join(folder_dataset, folder, fname)\n",
    "            file_id =fname.split('.')[0]\n",
    "            file_label = label_idx\n",
    "            rows.append([file_id, file_path, file_label])\n",
    "    print('Done - length:{}'.format(len(rows)))\n",
    "    print(rows[0])\n",
    "    print(rows[-1])\n",
    "    return rows"
   ]
  },
  {
   "cell_type": "code",
   "execution_count": 7,
   "metadata": {},
   "outputs": [],
   "source": [
    "def write_to_csv(rows, column_names, csv_fname):\n",
    "    '''rows: list of rows (= which are lists.)\n",
    "    column_names: names for columns\n",
    "    csv_fname: string, csv file name'''\n",
    "    df = pd.DataFrame(rows, columns=column_names)\n",
    "    df.to_csv(os.path.join(FOLDER_CSV, csv_fname))"
   ]
  },
  {
   "cell_type": "markdown",
   "metadata": {},
   "source": [
    "### Jamendo voice activity\n",
    "pre-preprocess: trim them and save into `PATH_JAMENDO_TRIM`. \n",
    "\n",
    "The `train/test/valid` structure is preserved, segments are stored in `sing/nosing` subdirectory"
   ]
  },
  {
   "cell_type": "code",
   "execution_count": 6,
   "metadata": {},
   "outputs": [],
   "source": [
    "PATH_JAMENDO = os.path.join(PATH_DATASETS, 'jamendo_voice_activity')\n",
    "PATH_JAMENDO_TRIM = os.path.join(PATH_PROCESSED, 'jamendo_trimmed/')"
   ]
  },
  {
   "cell_type": "code",
   "execution_count": 7,
   "metadata": {
    "collapsed": true
   },
   "outputs": [],
   "source": [
    "folders = ['train', 'test', 'valid']"
   ]
  },
  {
   "cell_type": "markdown",
   "metadata": {},
   "source": [
    "### Jamendo - x\n",
    "\n",
    "This code trims the files into 'sing' and 'nosing' segments and save them as wav files."
   ]
  },
  {
   "cell_type": "code",
   "execution_count": 20,
   "metadata": {
    "scrolled": true
   },
   "outputs": [
    {
     "name": "stdout",
     "output_type": "stream",
     "text": [
      "Start..\n",
      "train..\n",
      "  4402 - Colombia.ogg..\n",
      "  4501 - The Final Rewind.ogg..\n",
      "  4601 - Sunlight.ogg..\n",
      "  4701 - Seven Months.ogg..\n",
      "  4801 - Perdre le Nord.ogg..\n",
      "  4901 - Ok.ogg..\n",
      "  5001 - Its Easy.ogg..\n",
      "  5101 - Angels Of Crime.ogg..\n",
      "  5201 - Visa pour hier.mp3..\n",
      "  5301 - Sunken Sailor.mp3..\n",
      "  5402 - The Louise XIV Cathorse.mp3..\n",
      "  5501 - alice.mp3..\n",
      "  5601 - A smile on your face.mp3..\n",
      "  5701 - A new singing song.mp3..\n",
      "  5801 - 10min.mp3..\n",
      "  5901 - A city.mp3..\n",
      "  6002 - emporte-moi.mp3..\n",
      "test..\n",
      "  003 - castaway.ogg..\n",
      "  103 - Une charogne.ogg..\n",
      "  205 - 05 LIrlandaise.ogg..\n",
      "  305 - 16 ans.ogg..\n",
      "  405 - 2003-Circonstances attenuantes part II.ogg..\n",
      "  505 - A Poings Fermes.ogg..\n",
      "  605 - Crepuscule.ogg..\n",
      "  705 - Dance.ogg..\n",
      "  804 - Healing Luna.mp3..\n",
      "  903 - Say me Good Bye.mp3..\n",
      "  1004 - Inside.mp3..\n",
      "  1105 - Elles disent.mp3..\n",
      "  1203 - Si Dieu.mp3..\n",
      "  1303 - School.mp3..\n",
      "  1404 - Believe.mp3..\n",
      "  1504 - You are.mp3..\n",
      "valid..\n",
      "  005 - Change.ogg..\n",
      "  105 - Cecilia.ogg..\n",
      "  205 - Callypige palindrome.ogg..\n",
      "  305 - Budenzauber.ogg..\n",
      "  405 - Bucle Paranoideal.ogg..\n",
      "  505 - Bleu horizon.ogg..\n",
      "  605 - Black Box.ogg..\n",
      "  705 - Bazooka enraye.ogg..\n",
      "  805 - Bandicape.ogg..\n",
      "  905 - Aux Cieux, Tu es mon Dieu.ogg..\n",
      "  1005 - Au Mage.ogg..\n",
      "  1105 - As Longas Passagens.ogg..\n",
      "  1205 - Argeles.ogg..\n",
      "  1305 - Anyway.ogg..\n",
      "  1405 - Animal.ogg..\n",
      "  1505 - Angeliques.ogg..\n"
     ]
    }
   ],
   "source": [
    "# Create 'x's \n",
    "print('Start..')\n",
    "for folder in folders:\n",
    "    print('{}..'.format(folder))\n",
    "    path_folder = os.path.join(PATH_JAMENDO, folder)\n",
    "    files = os.listdir(path_folder)\n",
    "    music_files = [f for f in files if f.split('.')[-1].lower() in ('ogg', 'mp3') and not f.startswith('._')]\n",
    "    \n",
    "    lab_files = [f.replace('ogg', 'lab').replace('mp3', 'lab') for f in music_files]\n",
    "    try:\n",
    "        os.mkdir(os.path.join(PATH_JAMENDO_TRIM, folder, 'sing/'))\n",
    "        os.mkdir(os.path.join(PATH_JAMENDO_TRIM, folder, 'nosing/'))\n",
    "    except:\n",
    "        pass\n",
    "    for file_idx, (m_file, l_file) in enumerate(zip(music_files, lab_files)): # music file, lab file (text)\n",
    "        if folder == 'train' and file_idx <= 43:\n",
    "            continue\n",
    "        print('  {} {}..'.format(file_idx, m_file))\n",
    "        filename = l_file.rstrip('.lab') # == song title.\n",
    "        path_audio = os.path.join(path_folder, m_file)\n",
    "        src, sr = librosa.load(path_audio, sr=SR)\n",
    "        starts, ends, labels = [], [], []\n",
    "        with open(os.path.join(PATH_JAMENDO, 'jamendo_lab/', l_file)) as f_lab:\n",
    "            for line in f_lab:\n",
    "                start, end, label = line.rstrip('\\n').split(' ') # [second], [s], 'sing' or 'nosing'\n",
    "                starts.append(start)\n",
    "                ends.append(end)\n",
    "                labels.append(label)\n",
    "        for seg_idx, (start, end, label) in enumerate(zip(starts, ends, labels)):\n",
    "            out_name = '{}_{}.wav'.format(filename, seg_idx)\n",
    "            start_sp = int(float(start) * SR)\n",
    "            end_sp = int(float(end) * SR)\n",
    "            librosa.output.write_wav(os.path.join(PATH_JAMENDO_TRIM, folder, label, out_name),\n",
    "                                    src[start_sp:end_sp],\n",
    "                                    SR)\n"
   ]
  },
  {
   "cell_type": "markdown",
   "metadata": {},
   "source": [
    "### jamendo - y"
   ]
  },
  {
   "cell_type": "code",
   "execution_count": 68,
   "metadata": {},
   "outputs": [
    {
     "name": "stdout",
     "output_type": "stream",
     "text": [
      "4086\n",
      "4086\n"
     ]
    }
   ],
   "source": [
    "# y: csv file, columns=['filename_total', 'filename_seg', 'y', 'category']\n",
    "#                       'blah.ogg', 'blah_1.ogg', 1, 'train'\n",
    "filename_segs = []\n",
    "filepaths = []\n",
    "ys = []\n",
    "categories = []\n",
    "\n",
    "for folder in folders:\n",
    "#     print('{}..'.format(folder))\n",
    "    path_folder = os.path.join(PATH_JAMENDO, folder)\n",
    "    files = os.listdir(path_folder)\n",
    "    music_files = [f for f in files if f.split('.')[-1].lower() in ('ogg', 'mp3') and not f.startswith('._')]\n",
    "    \n",
    "    lab_files = [f.replace('ogg', 'lab').replace('mp3', 'lab') for f in music_files]\n",
    "    try:\n",
    "        os.mkdir(os.path.join(PATH_JAMENDO_TRIM, folder, 'sing/'))\n",
    "        os.mkdir(os.path.join(PATH_JAMENDO_TRIM, folder, 'nosing/'))\n",
    "    except:\n",
    "        pass\n",
    "    for file_idx, (m_file, l_file) in enumerate(zip(music_files, lab_files)): # music file, lab file (text)\n",
    "#         print('  {} {}..'.format(file_idx, m_file))\n",
    "        filename = l_file.rstrip('.lab') # == song title.\n",
    "        is_sings = []\n",
    "        labels = []\n",
    "        with open(os.path.join(PATH_JAMENDO, 'jamendo_lab/', l_file)) as f_lab:\n",
    "            for line in f_lab:\n",
    "                start, end, label = line.rstrip('\\n').split(' ') # [second], [s], 'sing' or 'nosing'\n",
    "                is_sings.append(int(label == 'sing'))\n",
    "                labels.append(label)\n",
    "        for seg_idx, (is_sing, label) in enumerate(zip(is_sings, labels)):\n",
    "            out_name = '{}_{}.wav'.format(filename, seg_idx)\n",
    "            filename_segs.append(out_name.rstrip('.wav'))\n",
    "            filepaths.append(os.path.join(folder, label, out_name))\n",
    "            ys.append(is_sing)\n",
    "            categories.append(folder)\n",
    "\n",
    "print len(filepaths)\n",
    "print len(ys)\n",
    "    "
   ]
  },
  {
   "cell_type": "code",
   "execution_count": 69,
   "metadata": {},
   "outputs": [
    {
     "name": "stdout",
     "output_type": "stream",
     "text": [
      "jamendo_vd.csv is saved! \n"
     ]
    }
   ],
   "source": [
    "write_to_csv(zip(*[filename_segs, filepaths, ys, categories]), ['id', 'filepath', 'label', 'category'], 'jamendo_vd.csv')\n",
    "print('jamendo_vd.csv is saved! ')"
   ]
  },
  {
   "cell_type": "markdown",
   "metadata": {},
   "source": [
    "### ballroom extended"
   ]
  },
  {
   "cell_type": "code",
   "execution_count": 29,
   "metadata": {
    "collapsed": true
   },
   "outputs": [],
   "source": [
    "folder_dataset_be = 'ballroom_extended_2016/'\n",
    "labels_be = ['Chacha', 'Foxtrot', 'Jive', 'Pasodoble', 'Rumba', 'Salsa', 'Samba', 'Slowwaltz', 'Tango', 'Viennesewaltz'\n",
    "         , 'Waltz', 'Wcswing', 'Quickstep']\n",
    "n_label_be = len(labels_be)\n",
    "folders_be = [s + '/' for s in labels_be]"
   ]
  },
  {
   "cell_type": "code",
   "execution_count": 31,
   "metadata": {},
   "outputs": [
    {
     "name": "stdout",
     "output_type": "stream",
     "text": [
      "Done - length:4180\n",
      "['100701', 'ballroom_extended_2016/Chacha/100701.mp3', 0]\n",
      "['118720', 'ballroom_extended_2016/Quickstep/118720.mp3', 12]\n"
     ]
    }
   ],
   "source": [
    "rows_ballroom = get_rows_from_folders(folder_dataset_be, folders_be)\n",
    "write_to_csv(rows_ballroom, column_names, 'ballroom_extended.csv')"
   ]
  },
  {
   "cell_type": "markdown",
   "metadata": {},
   "source": [
    "### gtzan genre"
   ]
  },
  {
   "cell_type": "code",
   "execution_count": 12,
   "metadata": {},
   "outputs": [
    {
     "data": {
      "text/plain": [
       "['blues/',\n",
       " 'classical/',\n",
       " 'country/',\n",
       " 'disco/',\n",
       " 'hiphop/',\n",
       " 'jazz/',\n",
       " 'metal/',\n",
       " 'pop/',\n",
       " 'reggae/',\n",
       " 'rock/']"
      ]
     },
     "execution_count": 12,
     "metadata": {},
     "output_type": "execute_result"
    }
   ],
   "source": [
    "folder_dataset_gtg = 'genres/'\n",
    "labels_gtg = ['blues', 'classical', 'country', 'disco', 'hiphop', 'jazz', 'metal', 'pop', 'reggae', 'rock']\n",
    "n_label_gtg = len(labels_gtg)\n",
    "folders_gtg = [s + '/' for s in labels_gtg]"
   ]
  },
  {
   "cell_type": "code",
   "execution_count": 17,
   "metadata": {},
   "outputs": [
    {
     "name": "stdout",
     "output_type": "stream",
     "text": [
      "Done - length:1000\n",
      "['blues', 'genres/blues/blues.00073.au', 0]\n",
      "['rock', 'genres/rock/rock.00016.au', 9]\n"
     ]
    }
   ],
   "source": [
    "rows_gtg = get_rows_from_folders(folder_dataset_gtg, folders_gtg)\n",
    "write_to_csv(rows_gtg, column_names, 'gtzan_genre.csv')"
   ]
  },
  {
   "cell_type": "markdown",
   "metadata": {},
   "source": [
    "### gtzan music speech"
   ]
  },
  {
   "cell_type": "code",
   "execution_count": 18,
   "metadata": {},
   "outputs": [],
   "source": [
    "folder_dataset_gtms = 'music_speech/'\n",
    "labels_gtms = ['music', 'speech']\n",
    "n_label_gtms = len(labels_gtms)\n",
    "folders_gtms = ['music_wav', 'speech_wav']"
   ]
  },
  {
   "cell_type": "code",
   "execution_count": 19,
   "metadata": {},
   "outputs": [
    {
     "name": "stdout",
     "output_type": "stream",
     "text": [
      "Done - length:128\n",
      "['nearhou', 'music_speech/music_wav/nearhou.wav', 0]\n",
      "['news1', 'music_speech/speech_wav/news1.wav', 1]\n"
     ]
    }
   ],
   "source": [
    "rows_gtms = get_rows_from_folders(folder_dataset_gtms, folders_gtms)\n",
    "write_to_csv(rows_gtms, column_names, 'gtzan_speechmusic.csv')"
   ]
  },
  {
   "cell_type": "markdown",
   "metadata": {
    "collapsed": true
   },
   "source": [
    "### emoMusic45s\n",
    "* at /misc/kcgscratch1/ChoGroup/keunwoo/datasets/emoMusic45s,\n",
    "* files: 0.mp3 - 1000.mp3\n",
    "* labels: `static_annotations.csv`, \n",
    "```csv\n",
    "song_id,mean_arousal,std_arousal,mean_valence,std_valence\n",
    "2,3.1,0.99443,3,0.66667\n",
    "```\n",
    "\n",
    "Some files are missing AV labels, overall 744 songs. \n",
    "\n",
    "I ignore train/test pre-split cuz it seems unnecessary.\n",
    "\n",
    "http://cvml.unige.ch/databases/emoMusic/\n"
   ]
  },
  {
   "cell_type": "markdown",
   "metadata": {},
   "source": [
    "### emoMusic 45s"
   ]
  },
  {
   "cell_type": "code",
   "execution_count": 20,
   "metadata": {},
   "outputs": [
    {
     "ename": "FileNotFoundError",
     "evalue": "File b'/home/kchow/datasets/emoMusic45s/static_annotations.csv' does not exist",
     "output_type": "error",
     "traceback": [
      "\u001b[0;31m---------------------------------------------------------------------------\u001b[0m",
      "\u001b[0;31mFileNotFoundError\u001b[0m                         Traceback (most recent call last)",
      "\u001b[0;32m<ipython-input-20-57c1e5dc285b>\u001b[0m in \u001b[0;36m<module>\u001b[0;34m()\u001b[0m\n\u001b[1;32m      2\u001b[0m \u001b[0manno_file\u001b[0m \u001b[0;34m=\u001b[0m \u001b[0;34m'static_annotations.csv'\u001b[0m\u001b[0;34m\u001b[0m\u001b[0m\n\u001b[1;32m      3\u001b[0m \u001b[0minfo_file\u001b[0m \u001b[0;34m=\u001b[0m \u001b[0;34m'song_info.csv'\u001b[0m\u001b[0;34m\u001b[0m\u001b[0m\n\u001b[0;32m----> 4\u001b[0;31m \u001b[0mdf\u001b[0m \u001b[0;34m=\u001b[0m \u001b[0mpd\u001b[0m\u001b[0;34m.\u001b[0m\u001b[0mread_csv\u001b[0m\u001b[0;34m(\u001b[0m\u001b[0mos\u001b[0m\u001b[0;34m.\u001b[0m\u001b[0mpath\u001b[0m\u001b[0;34m.\u001b[0m\u001b[0mjoin\u001b[0m\u001b[0;34m(\u001b[0m\u001b[0mPATH_DATASETS\u001b[0m\u001b[0;34m,\u001b[0m \u001b[0memoMusic_folder\u001b[0m\u001b[0;34m,\u001b[0m \u001b[0manno_file\u001b[0m\u001b[0;34m)\u001b[0m\u001b[0;34m)\u001b[0m\u001b[0;34m\u001b[0m\u001b[0m\n\u001b[0m\u001b[1;32m      5\u001b[0m \u001b[0;31m# df_info = pd.read_csv(os.path.join(PATH_DATASETS, emoMusic_folder, info_file))\u001b[0m\u001b[0;34m\u001b[0m\u001b[0;34m\u001b[0m\u001b[0m\n",
      "\u001b[0;32m~/.conda/envs/TLMusic/lib/python3.5/site-packages/pandas-0.23.4-py3.5-linux-x86_64.egg/pandas/io/parsers.py\u001b[0m in \u001b[0;36mparser_f\u001b[0;34m(filepath_or_buffer, sep, delimiter, header, names, index_col, usecols, squeeze, prefix, mangle_dupe_cols, dtype, engine, converters, true_values, false_values, skipinitialspace, skiprows, nrows, na_values, keep_default_na, na_filter, verbose, skip_blank_lines, parse_dates, infer_datetime_format, keep_date_col, date_parser, dayfirst, iterator, chunksize, compression, thousands, decimal, lineterminator, quotechar, quoting, escapechar, comment, encoding, dialect, tupleize_cols, error_bad_lines, warn_bad_lines, skipfooter, doublequote, delim_whitespace, low_memory, memory_map, float_precision)\u001b[0m\n\u001b[1;32m    676\u001b[0m                     skip_blank_lines=skip_blank_lines)\n\u001b[1;32m    677\u001b[0m \u001b[0;34m\u001b[0m\u001b[0m\n\u001b[0;32m--> 678\u001b[0;31m         \u001b[0;32mreturn\u001b[0m \u001b[0m_read\u001b[0m\u001b[0;34m(\u001b[0m\u001b[0mfilepath_or_buffer\u001b[0m\u001b[0;34m,\u001b[0m \u001b[0mkwds\u001b[0m\u001b[0;34m)\u001b[0m\u001b[0;34m\u001b[0m\u001b[0m\n\u001b[0m\u001b[1;32m    679\u001b[0m \u001b[0;34m\u001b[0m\u001b[0m\n\u001b[1;32m    680\u001b[0m     \u001b[0mparser_f\u001b[0m\u001b[0;34m.\u001b[0m\u001b[0m__name__\u001b[0m \u001b[0;34m=\u001b[0m \u001b[0mname\u001b[0m\u001b[0;34m\u001b[0m\u001b[0m\n",
      "\u001b[0;32m~/.conda/envs/TLMusic/lib/python3.5/site-packages/pandas-0.23.4-py3.5-linux-x86_64.egg/pandas/io/parsers.py\u001b[0m in \u001b[0;36m_read\u001b[0;34m(filepath_or_buffer, kwds)\u001b[0m\n\u001b[1;32m    438\u001b[0m \u001b[0;34m\u001b[0m\u001b[0m\n\u001b[1;32m    439\u001b[0m     \u001b[0;31m# Create the parser.\u001b[0m\u001b[0;34m\u001b[0m\u001b[0;34m\u001b[0m\u001b[0m\n\u001b[0;32m--> 440\u001b[0;31m     \u001b[0mparser\u001b[0m \u001b[0;34m=\u001b[0m \u001b[0mTextFileReader\u001b[0m\u001b[0;34m(\u001b[0m\u001b[0mfilepath_or_buffer\u001b[0m\u001b[0;34m,\u001b[0m \u001b[0;34m**\u001b[0m\u001b[0mkwds\u001b[0m\u001b[0;34m)\u001b[0m\u001b[0;34m\u001b[0m\u001b[0m\n\u001b[0m\u001b[1;32m    441\u001b[0m \u001b[0;34m\u001b[0m\u001b[0m\n\u001b[1;32m    442\u001b[0m     \u001b[0;32mif\u001b[0m \u001b[0mchunksize\u001b[0m \u001b[0;32mor\u001b[0m \u001b[0miterator\u001b[0m\u001b[0;34m:\u001b[0m\u001b[0;34m\u001b[0m\u001b[0m\n",
      "\u001b[0;32m~/.conda/envs/TLMusic/lib/python3.5/site-packages/pandas-0.23.4-py3.5-linux-x86_64.egg/pandas/io/parsers.py\u001b[0m in \u001b[0;36m__init__\u001b[0;34m(self, f, engine, **kwds)\u001b[0m\n\u001b[1;32m    785\u001b[0m             \u001b[0mself\u001b[0m\u001b[0;34m.\u001b[0m\u001b[0moptions\u001b[0m\u001b[0;34m[\u001b[0m\u001b[0;34m'has_index_names'\u001b[0m\u001b[0;34m]\u001b[0m \u001b[0;34m=\u001b[0m \u001b[0mkwds\u001b[0m\u001b[0;34m[\u001b[0m\u001b[0;34m'has_index_names'\u001b[0m\u001b[0;34m]\u001b[0m\u001b[0;34m\u001b[0m\u001b[0m\n\u001b[1;32m    786\u001b[0m \u001b[0;34m\u001b[0m\u001b[0m\n\u001b[0;32m--> 787\u001b[0;31m         \u001b[0mself\u001b[0m\u001b[0;34m.\u001b[0m\u001b[0m_make_engine\u001b[0m\u001b[0;34m(\u001b[0m\u001b[0mself\u001b[0m\u001b[0;34m.\u001b[0m\u001b[0mengine\u001b[0m\u001b[0;34m)\u001b[0m\u001b[0;34m\u001b[0m\u001b[0m\n\u001b[0m\u001b[1;32m    788\u001b[0m \u001b[0;34m\u001b[0m\u001b[0m\n\u001b[1;32m    789\u001b[0m     \u001b[0;32mdef\u001b[0m \u001b[0mclose\u001b[0m\u001b[0;34m(\u001b[0m\u001b[0mself\u001b[0m\u001b[0;34m)\u001b[0m\u001b[0;34m:\u001b[0m\u001b[0;34m\u001b[0m\u001b[0m\n",
      "\u001b[0;32m~/.conda/envs/TLMusic/lib/python3.5/site-packages/pandas-0.23.4-py3.5-linux-x86_64.egg/pandas/io/parsers.py\u001b[0m in \u001b[0;36m_make_engine\u001b[0;34m(self, engine)\u001b[0m\n\u001b[1;32m   1012\u001b[0m     \u001b[0;32mdef\u001b[0m \u001b[0m_make_engine\u001b[0m\u001b[0;34m(\u001b[0m\u001b[0mself\u001b[0m\u001b[0;34m,\u001b[0m \u001b[0mengine\u001b[0m\u001b[0;34m=\u001b[0m\u001b[0;34m'c'\u001b[0m\u001b[0;34m)\u001b[0m\u001b[0;34m:\u001b[0m\u001b[0;34m\u001b[0m\u001b[0m\n\u001b[1;32m   1013\u001b[0m         \u001b[0;32mif\u001b[0m \u001b[0mengine\u001b[0m \u001b[0;34m==\u001b[0m \u001b[0;34m'c'\u001b[0m\u001b[0;34m:\u001b[0m\u001b[0;34m\u001b[0m\u001b[0m\n\u001b[0;32m-> 1014\u001b[0;31m             \u001b[0mself\u001b[0m\u001b[0;34m.\u001b[0m\u001b[0m_engine\u001b[0m \u001b[0;34m=\u001b[0m \u001b[0mCParserWrapper\u001b[0m\u001b[0;34m(\u001b[0m\u001b[0mself\u001b[0m\u001b[0;34m.\u001b[0m\u001b[0mf\u001b[0m\u001b[0;34m,\u001b[0m \u001b[0;34m**\u001b[0m\u001b[0mself\u001b[0m\u001b[0;34m.\u001b[0m\u001b[0moptions\u001b[0m\u001b[0;34m)\u001b[0m\u001b[0;34m\u001b[0m\u001b[0m\n\u001b[0m\u001b[1;32m   1015\u001b[0m         \u001b[0;32melse\u001b[0m\u001b[0;34m:\u001b[0m\u001b[0;34m\u001b[0m\u001b[0m\n\u001b[1;32m   1016\u001b[0m             \u001b[0;32mif\u001b[0m \u001b[0mengine\u001b[0m \u001b[0;34m==\u001b[0m \u001b[0;34m'python'\u001b[0m\u001b[0;34m:\u001b[0m\u001b[0;34m\u001b[0m\u001b[0m\n",
      "\u001b[0;32m~/.conda/envs/TLMusic/lib/python3.5/site-packages/pandas-0.23.4-py3.5-linux-x86_64.egg/pandas/io/parsers.py\u001b[0m in \u001b[0;36m__init__\u001b[0;34m(self, src, **kwds)\u001b[0m\n\u001b[1;32m   1706\u001b[0m         \u001b[0mkwds\u001b[0m\u001b[0;34m[\u001b[0m\u001b[0;34m'usecols'\u001b[0m\u001b[0;34m]\u001b[0m \u001b[0;34m=\u001b[0m \u001b[0mself\u001b[0m\u001b[0;34m.\u001b[0m\u001b[0musecols\u001b[0m\u001b[0;34m\u001b[0m\u001b[0m\n\u001b[1;32m   1707\u001b[0m \u001b[0;34m\u001b[0m\u001b[0m\n\u001b[0;32m-> 1708\u001b[0;31m         \u001b[0mself\u001b[0m\u001b[0;34m.\u001b[0m\u001b[0m_reader\u001b[0m \u001b[0;34m=\u001b[0m \u001b[0mparsers\u001b[0m\u001b[0;34m.\u001b[0m\u001b[0mTextReader\u001b[0m\u001b[0;34m(\u001b[0m\u001b[0msrc\u001b[0m\u001b[0;34m,\u001b[0m \u001b[0;34m**\u001b[0m\u001b[0mkwds\u001b[0m\u001b[0;34m)\u001b[0m\u001b[0;34m\u001b[0m\u001b[0m\n\u001b[0m\u001b[1;32m   1709\u001b[0m \u001b[0;34m\u001b[0m\u001b[0m\n\u001b[1;32m   1710\u001b[0m         \u001b[0mpassed_names\u001b[0m \u001b[0;34m=\u001b[0m \u001b[0mself\u001b[0m\u001b[0;34m.\u001b[0m\u001b[0mnames\u001b[0m \u001b[0;32mis\u001b[0m \u001b[0;32mNone\u001b[0m\u001b[0;34m\u001b[0m\u001b[0m\n",
      "\u001b[0;32mpandas/_libs/parsers.pyx\u001b[0m in \u001b[0;36mpandas._libs.parsers.TextReader.__cinit__\u001b[0;34m()\u001b[0m\n",
      "\u001b[0;32mpandas/_libs/parsers.pyx\u001b[0m in \u001b[0;36mpandas._libs.parsers.TextReader._setup_parser_source\u001b[0;34m()\u001b[0m\n",
      "\u001b[0;31mFileNotFoundError\u001b[0m: File b'/home/kchow/datasets/emoMusic45s/static_annotations.csv' does not exist"
     ]
    }
   ],
   "source": [
    "emoMusic_folder = 'clips'\n",
    "anno_file = 'static_annotations.csv'\n",
    "info_file = 'song_info.csv'\n",
    "df = pd.read_csv(os.path.join(PATH_DATASETS, emoMusic_folder, anno_file))\n",
    "# df_info = pd.read_csv(os.path.join(PATH_DATASETS, emoMusic_folder, info_file))"
   ]
  },
  {
   "cell_type": "code",
   "execution_count": 71,
   "metadata": {},
   "outputs": [],
   "source": [
    "filenames = ['%s.mp3' % idx for idx in df['song_id']]\n",
    "filepaths = [os.path.join(emoMusic_folder, 'clips_45seconds', f) for f in filenames]\n",
    "# categories = [df['']]"
   ]
  },
  {
   "cell_type": "code",
   "execution_count": 72,
   "metadata": {},
   "outputs": [],
   "source": [
    "write_to_csv(zip(*[df['song_id'], filepaths, df['mean_arousal']/9., df['mean_valence']/9.]),\n",
    "            ['id', 'filepath', 'label_arousal', 'label_valence'],\n",
    "            'emoMusic.csv')"
   ]
  },
  {
   "cell_type": "code",
   "execution_count": 73,
   "metadata": {},
   "outputs": [
    {
     "data": {
      "text/plain": [
       "744"
      ]
     },
     "execution_count": 73,
     "metadata": {},
     "output_type": "execute_result"
    }
   ],
   "source": [
    "len(df['song_id'])"
   ]
  },
  {
   "cell_type": "markdown",
   "metadata": {},
   "source": [
    "### urbansound8k\n",
    "\n",
    "csv: `/misc/kcgscratch1/ChoGroup/keunwoo/UrbanSound8K/metadata/UrbanSound8K.csv`\n",
    "```\n",
    "slice_file_name,fsID,start,end,salience,fold,classID,class\n",
    "100032-3-0-0.wav,100032,0.0,0.317551,1,5,3,dog_bark\n",
    "100263-2-0-117.wav,100263,58.5,62.5,1,5,2,children_playing\n",
    "```\n"
   ]
  },
  {
   "cell_type": "code",
   "execution_count": 21,
   "metadata": {},
   "outputs": [],
   "source": [
    "df = pd.read_csv(os.path.join(PATH_URBAN, 'metadata/UrbanSound8K.csv'))\n",
    "\n",
    "ids = [s.rstrip('.wav') for s in df['slice_file_name']]\n",
    "filepaths = [os.path.join('fold%s' % fd, fn) for fd, fn in zip(df['fold'], df['slice_file_name'])]"
   ]
  },
  {
   "cell_type": "code",
   "execution_count": 22,
   "metadata": {},
   "outputs": [
    {
     "ename": "TypeError",
     "evalue": "data argument can't be an iterator",
     "output_type": "error",
     "traceback": [
      "\u001b[0;31m---------------------------------------------------------------------------\u001b[0m",
      "\u001b[0;31mTypeError\u001b[0m                                 Traceback (most recent call last)",
      "\u001b[0;32m<ipython-input-22-83c399c95968>\u001b[0m in \u001b[0;36m<module>\u001b[0;34m()\u001b[0m\n\u001b[1;32m      1\u001b[0m write_to_csv(zip(*[ids, filepaths, df['classID'], df['fold']]), ['id', 'filepath', 'label', 'fold'],\n\u001b[0;32m----> 2\u001b[0;31m             'urbansound.csv')\n\u001b[0m",
      "\u001b[0;32m<ipython-input-7-6d87a8a94701>\u001b[0m in \u001b[0;36mwrite_to_csv\u001b[0;34m(rows, column_names, csv_fname)\u001b[0m\n\u001b[1;32m      3\u001b[0m     \u001b[0mcolumn_names\u001b[0m\u001b[0;34m:\u001b[0m \u001b[0mnames\u001b[0m \u001b[0;32mfor\u001b[0m \u001b[0mcolumns\u001b[0m\u001b[0;34m\u001b[0m\u001b[0m\n\u001b[1;32m      4\u001b[0m     csv_fname: string, csv file name'''\n\u001b[0;32m----> 5\u001b[0;31m     \u001b[0mdf\u001b[0m \u001b[0;34m=\u001b[0m \u001b[0mpd\u001b[0m\u001b[0;34m.\u001b[0m\u001b[0mDataFrame\u001b[0m\u001b[0;34m(\u001b[0m\u001b[0mrows\u001b[0m\u001b[0;34m,\u001b[0m \u001b[0mcolumns\u001b[0m\u001b[0;34m=\u001b[0m\u001b[0mcolumn_names\u001b[0m\u001b[0;34m)\u001b[0m\u001b[0;34m\u001b[0m\u001b[0m\n\u001b[0m\u001b[1;32m      6\u001b[0m     \u001b[0mdf\u001b[0m\u001b[0;34m.\u001b[0m\u001b[0mto_csv\u001b[0m\u001b[0;34m(\u001b[0m\u001b[0mos\u001b[0m\u001b[0;34m.\u001b[0m\u001b[0mpath\u001b[0m\u001b[0;34m.\u001b[0m\u001b[0mjoin\u001b[0m\u001b[0;34m(\u001b[0m\u001b[0mFOLDER_CSV\u001b[0m\u001b[0;34m,\u001b[0m \u001b[0mcsv_fname\u001b[0m\u001b[0;34m)\u001b[0m\u001b[0;34m)\u001b[0m\u001b[0;34m\u001b[0m\u001b[0m\n",
      "\u001b[0;32m~/.conda/envs/TLMusic/lib/python3.5/site-packages/pandas-0.23.4-py3.5-linux-x86_64.egg/pandas/core/frame.py\u001b[0m in \u001b[0;36m__init__\u001b[0;34m(self, data, index, columns, dtype, copy)\u001b[0m\n\u001b[1;32m    405\u001b[0m                 \u001b[0mmgr\u001b[0m \u001b[0;34m=\u001b[0m \u001b[0mself\u001b[0m\u001b[0;34m.\u001b[0m\u001b[0m_init_dict\u001b[0m\u001b[0;34m(\u001b[0m\u001b[0;34m{\u001b[0m\u001b[0;34m}\u001b[0m\u001b[0;34m,\u001b[0m \u001b[0mindex\u001b[0m\u001b[0;34m,\u001b[0m \u001b[0mcolumns\u001b[0m\u001b[0;34m,\u001b[0m \u001b[0mdtype\u001b[0m\u001b[0;34m=\u001b[0m\u001b[0mdtype\u001b[0m\u001b[0;34m)\u001b[0m\u001b[0;34m\u001b[0m\u001b[0m\n\u001b[1;32m    406\u001b[0m         \u001b[0;32melif\u001b[0m \u001b[0misinstance\u001b[0m\u001b[0;34m(\u001b[0m\u001b[0mdata\u001b[0m\u001b[0;34m,\u001b[0m \u001b[0mcollections\u001b[0m\u001b[0;34m.\u001b[0m\u001b[0mIterator\u001b[0m\u001b[0;34m)\u001b[0m\u001b[0;34m:\u001b[0m\u001b[0;34m\u001b[0m\u001b[0m\n\u001b[0;32m--> 407\u001b[0;31m             \u001b[0;32mraise\u001b[0m \u001b[0mTypeError\u001b[0m\u001b[0;34m(\u001b[0m\u001b[0;34m\"data argument can't be an iterator\"\u001b[0m\u001b[0;34m)\u001b[0m\u001b[0;34m\u001b[0m\u001b[0m\n\u001b[0m\u001b[1;32m    408\u001b[0m         \u001b[0;32melse\u001b[0m\u001b[0;34m:\u001b[0m\u001b[0;34m\u001b[0m\u001b[0m\n\u001b[1;32m    409\u001b[0m             \u001b[0;32mtry\u001b[0m\u001b[0;34m:\u001b[0m\u001b[0;34m\u001b[0m\u001b[0m\n",
      "\u001b[0;31mTypeError\u001b[0m: data argument can't be an iterator"
     ]
    }
   ],
   "source": [
    "write_to_csv(zip(*[ids, filepaths, df['classID'], df['fold']]), ['id', 'filepath', 'label', 'fold'],\n",
    "            'urbansound.csv')"
   ]
  },
  {
   "cell_type": "code",
   "execution_count": 80,
   "metadata": {},
   "outputs": [
    {
     "name": "stdout",
     "output_type": "stream",
     "text": [
      "Index([u'slice_file_name', u'fsID', u'start', u'end', u'salience', u'fold',\n",
      "       u'classID', u'class'],\n",
      "      dtype='object')\n"
     ]
    }
   ],
   "source": [
    "print df.columns"
   ]
  }
 ],
 "metadata": {
  "kernelspec": {
   "display_name": "Python 2",
   "language": "python",
   "name": "python2"
  },
  "language_info": {
   "codemirror_mode": {
    "name": "ipython",
    "version": 3
   },
   "file_extension": ".py",
   "mimetype": "text/x-python",
   "name": "python",
   "nbconvert_exporter": "python",
   "pygments_lexer": "ipython3",
   "version": "3.5.6"
  }
 },
 "nbformat": 4,
 "nbformat_minor": 1
}
